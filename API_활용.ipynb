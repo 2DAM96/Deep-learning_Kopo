{
  "nbformat": 4,
  "nbformat_minor": 0,
  "metadata": {
    "colab": {
      "provenance": []
    },
    "kernelspec": {
      "name": "python3",
      "display_name": "Python 3"
    },
    "language_info": {
      "name": "python"
    }
  },
  "cells": [
    {
      "cell_type": "code",
      "execution_count": null,
      "metadata": {
        "colab": {
          "base_uri": "https://localhost:8080/",
          "height": 372
        },
        "id": "JfWgHJe4d--J",
        "outputId": "e884ab29-bcc7-4ea3-d40a-24890dc68a7a"
      },
      "outputs": [
        {
          "output_type": "stream",
          "name": "stdout",
          "text": [
            "고양이 사진\n"
          ]
        },
        {
          "output_type": "display_data",
          "data": {
            "text/html": [
              "<img src=\"https://cdn2.thecatapi.com/images/bc3.jpg\"/>"
            ],
            "text/plain": [
              "<IPython.core.display.Image object>"
            ]
          },
          "metadata": {}
        }
      ],
      "source": [
        "import requests\n",
        "from IPython.display import Image, display\n",
        "\n",
        "url = \"https://api.thecatapi.com/v1/images/search\"\n",
        "response = requests.get(url)\n",
        "data = response.json()\n",
        "cat_url = data[0]['url']\n",
        "\n",
        "print(\"고양이 사진\")\n",
        "display(Image(url=cat_url))"
      ]
    },
    {
      "cell_type": "code",
      "source": [
        "import requests\n",
        "from datetime import datetime\n",
        "\n",
        "a = input(\"경도를 입력해주세요. :\")\n",
        "b = input(\"위도를 입력해주세요. :\")\n",
        "latitude = a\n",
        "longitude = b\n",
        "#today = datetime.utcnow().date()\n",
        "today = '2025-04-14'\n",
        "\n",
        "url = (\n",
        "    f\"https://api.open-meteo.com/v1/forecast?\"\n",
        "    f\"latitude={latitude}&longitude={longitude}\"\n",
        "    f\"&daily=temperature_2m_max,temperature_2m_min&timezone=Asia%2FSeoul\"\n",
        ")\n",
        "response = requests.get(url)\n",
        "data = response.json()\n",
        "dates = data['daily']['time']\n",
        "max_temps = data['daily']['temperature_2m_max']\n",
        "min_temps = data['daily']['temperature_2m_min']\n",
        "print(data)\n",
        "\n",
        "for date in dates:\n",
        "  if date == str(today):\n",
        "    i = dates.index(date)\n",
        "    print(f\"오늘({today}) 날씨\")\n",
        "    print(f\"- 최고 기온 : {max_temps[i]}℃\")\n",
        "    print(f\"- 최저 기온 : {min_temps[i]}℃\")\n",
        "    break"
      ],
      "metadata": {
        "colab": {
          "base_uri": "https://localhost:8080/"
        },
        "id": "oZ7dQcaKf9rM",
        "outputId": "8381d3c7-588d-4323-edf5-51aceb08c0ec"
      },
      "execution_count": 44,
      "outputs": [
        {
          "output_type": "stream",
          "name": "stdout",
          "text": [
            "경도를 입력해주세요. :32\n",
            "위도를 입력해주세요. :126\n",
            "{'latitude': 32.0, 'longitude': 126.0, 'generationtime_ms': 0.04374980926513672, 'utc_offset_seconds': 32400, 'timezone': 'Asia/Seoul', 'timezone_abbreviation': 'GMT+9', 'elevation': 0.0, 'daily_units': {'time': 'iso8601', 'temperature_2m_max': '°C', 'temperature_2m_min': '°C'}, 'daily': {'time': ['2025-04-14', '2025-04-15', '2025-04-16', '2025-04-17', '2025-04-18', '2025-04-19', '2025-04-20'], 'temperature_2m_max': [13.3, 12.6, 13.9, 14.5, 14.3, 14.8, 14.1], 'temperature_2m_min': [11.1, 10.1, 12.5, 14.0, 13.6, 13.3, 11.5]}}\n",
            "오늘(2025-04-14) 날씨\n",
            "- 최고 기온 : 13.3℃\n",
            "- 최저 기온 : 11.1℃\n"
          ]
        }
      ]
    },
    {
      "cell_type": "code",
      "source": [
        "import requests\n",
        "\n",
        "url = \"https://zenquotes.io/api/random\"\n",
        "response = requests.get(url)\n",
        "data = response.json()\n",
        "import json\n",
        "print(json.dumps(data, indent=3))\n",
        "\n",
        "quote = data[0]['q']\n",
        "author = data[0]['a']\n",
        "\n",
        "print(\"오늘의 명언 :\")\n",
        "print(f'\"{quote}\" - {author}')"
      ],
      "metadata": {
        "colab": {
          "base_uri": "https://localhost:8080/"
        },
        "id": "311XB-6LkaM8",
        "outputId": "9ed2a718-e26e-4183-8a66-e57dc31ee522"
      },
      "execution_count": null,
      "outputs": [
        {
          "output_type": "stream",
          "name": "stdout",
          "text": [
            "[\n",
            "   {\n",
            "      \"q\": \"The more you lose yourself in something bigger than yourself, the more energy you will have.\",\n",
            "      \"a\": \"Norman Vincent Peale\",\n",
            "      \"h\": \"<blockquote>&ldquo;The more you lose yourself in something bigger than yourself, the more energy you will have.&rdquo; &mdash; <footer>Norman Vincent Peale</footer></blockquote>\"\n",
            "   }\n",
            "]\n",
            "오늘의 명언 :\n",
            "\"The more you lose yourself in something bigger than yourself, the more energy you will have.\" - Norman Vincent Peale\n"
          ]
        }
      ]
    },
    {
      "cell_type": "markdown",
      "source": [
        "**> 아침 루틴 만들기**\n",
        "\n",
        "1. 랜덤 고양이 사진 보여주기\n",
        "2. 오늘 서울 날씨 알려주기\n",
        "3. 오늘의 명언 출력하기\n",
        "4. 추가 기능 제공(자율)"
      ],
      "metadata": {
        "id": "QOzr1zuqrgfU"
      }
    },
    {
      "cell_type": "code",
      "source": [
        "import requests\n",
        "\n",
        "class Monring:\n",
        "  def routine(name):\n",
        "    print(f\"{name}의 아침 루틴입니다.\")\n",
        "    from IPython.display import Image, display\n",
        "\n",
        "    url = \"https://api.thecatapi.com/v1/images/search\"\n",
        "    response = requests.get(url)\n",
        "    data = response.json()\n",
        "    cat_url = data[0]['url']\n",
        "\n",
        "    print(\"1. 고양이 사진\")\n",
        "    print()\n",
        "    display(Image(url=cat_url))\n",
        "    print()\n",
        "\n",
        "    from datetime import datetime\n",
        "\n",
        "    a = input(\"경도를 입력해주세요. :\")\n",
        "    b = input(\"위도를 입력해주세요. :\")\n",
        "    latitude = a\n",
        "    longitude = b\n",
        "    #today = datetime.utcnow().date()\n",
        "    today = '2025-04-14'\n",
        "\n",
        "    url = (\n",
        "        f\"https://api.open-meteo.com/v1/forecast?\"\n",
        "        f\"latitude={latitude}&longitude={longitude}\"\n",
        "        f\"&daily=temperature_2m_max,temperature_2m_min&timezone=Asia%2FSeoul\"\n",
        "    )\n",
        "    response = requests.get(url)\n",
        "    data = response.json()\n",
        "    dates = data['daily']['time']\n",
        "    max_temps = data['daily']['temperature_2m_max']\n",
        "    min_temps = data['daily']['temperature_2m_min']\n",
        "\n",
        "    for date in dates:\n",
        "      if date == str(today):\n",
        "        i = dates.index(date)\n",
        "        print(f\"2. 오늘({today}) 서울 날씨\")\n",
        "        print(f\"- 최고 기온 : {max_temps[i]}℃\")\n",
        "        print(f\"- 최저 기온 : {min_temps[i]}℃\")\n",
        "        break\n",
        "\n",
        "\n",
        "    url = \"https://zenquotes.io/api/random\"\n",
        "    response = requests.get(url)\n",
        "    data = response.json()\n",
        "    '''import json\n",
        "    print(json.dumps(data, indent=3))\n",
        "    '''\n",
        "    quote = data[0]['q']\n",
        "    author = data[0]['a']\n",
        "\n",
        "    print()\n",
        "    print(\"3. 오늘의 명언 :\")\n",
        "    print(f'\"{quote}\" - {author}')\n",
        "\n",
        "    from IPython.display import Image, display\n",
        "\n",
        "    url = \"https://picsum.photos/v2/list?\"\n",
        "    response = requests.get(url)\n",
        "    data = response.json()\n",
        "    rand_url = data[0]['url']\n",
        "\n",
        "    print()\n",
        "    print(\"4. 랜덤 이미지 사진\")\n",
        "    print()\n",
        "    display(Image(url=rand_url))\n",
        "  routine('이담')"
      ],
      "metadata": {
        "id": "ZGiThcYFmUKt",
        "colab": {
          "base_uri": "https://localhost:8080/",
          "height": 630
        },
        "outputId": "88982c60-d226-47ff-a28c-9afff1a57a97"
      },
      "execution_count": 52,
      "outputs": [
        {
          "output_type": "stream",
          "name": "stdout",
          "text": [
            "이담의 아침 루틴입니다.\n",
            "1. 고양이 사진\n",
            "\n"
          ]
        },
        {
          "output_type": "display_data",
          "data": {
            "text/html": [
              "<img src=\"https://cdn2.thecatapi.com/images/b48.jpg\"/>"
            ],
            "text/plain": [
              "<IPython.core.display.Image object>"
            ]
          },
          "metadata": {}
        },
        {
          "output_type": "stream",
          "name": "stdout",
          "text": [
            "\n",
            "경도를 입력해주세요. :28\n",
            "위도를 입력해주세요. :126\n",
            "2. 오늘(2025-04-14) 서울 날씨\n",
            "- 최고 기온 : 21.5℃\n",
            "- 최저 기온 : 15.6℃\n",
            "\n",
            "3. 오늘의 명언 :\n",
            "\"Never let the fear of striking out keep you from playing the game.\" - Babe Ruth\n",
            "4. 랜덤 이미지 사진\n",
            "\n"
          ]
        },
        {
          "output_type": "display_data",
          "data": {
            "text/html": [
              "<img src=\"https://unsplash.com/photos/yC-Yzbqy7PY\"/>"
            ],
            "text/plain": [
              "<IPython.core.display.Image object>"
            ]
          },
          "metadata": {}
        }
      ]
    },
    {
      "cell_type": "code",
      "source": [
        "import requests\n",
        "from datetime import datetime\n",
        "from IPython.display import Image, display\n",
        "\n",
        "class Morning:\n",
        "  def routine(name):\n",
        "    print(f\"{name}의 아침 루틴입니다.\\n\")\n",
        "\n",
        "  # 1. 고양이 사진\n",
        "  def cat():\n",
        "    url = \"https://api.thecatapi.com/v1/images/search\"\n",
        "    response = requests.get(url)\n",
        "    data = response.json()\n",
        "    cat_url = data[0]['url']\n",
        "\n",
        "    print(\"1. 고양이 사진\\n\")\n",
        "    display(Image(url=cat_url))\n",
        "    print()\n",
        "\n",
        "  # 2. 날씨 정보\n",
        "  def weather():\n",
        "    a = input(\"경도를 입력해주세요. :\")\n",
        "    b = input(\"위도를 입력해주세요. :\")\n",
        "\n",
        "    latitude = a\n",
        "    longitude = b\n",
        "    today = '2025-04-14'\n",
        "\n",
        "    url = (\n",
        "        f\"https://api.open-meteo.com/v1/forecast?\"\n",
        "        f\"latitude={latitude}&longitude={longitude}\"\n",
        "        f\"&daily=temperature_2m_max,temperature_2m_min&timezone=Asia%2FSeoul\"\n",
        "    )\n",
        "    response = requests.get(url)\n",
        "    data = response.json()\n",
        "    dates = data['daily']['time']\n",
        "    max_temps = data['daily']['temperature_2m_max']\n",
        "    min_temps = data['daily']['temperature_2m_min']\n",
        "\n",
        "    for date in dates:\n",
        "      if date == str(today):\n",
        "        i = dates.index(date)\n",
        "        print(f\"\\n2. 오늘({today}) 날씨\")\n",
        "        print(f\"- 최고 기온 : {max_temps[i]}℃\")\n",
        "        print(f\"- 최저 기온 : {min_temps[i]}℃\")\n",
        "        break\n",
        "\n",
        "  # 3. 오늘의 명언\n",
        "  def quote():\n",
        "    url = \"https://zenquotes.io/api/random\"\n",
        "    response = requests.get(url)\n",
        "    data = response.json()\n",
        "    quote = data[0]['q']\n",
        "    author = data[0]['a']\n",
        "\n",
        "    print()\n",
        "    print(\"3. 오늘의 명언 :\")\n",
        "    print(f'\"{quote}\" - {author}')\n",
        "\n",
        "  #4. 오늘의 주요 뉴스\n",
        "  def news():\n",
        "    url = \"https://api-v2.deepsearch.com/v1/global-articles?api_key=a14ffb090844413fb64f3b763f3b51c1\"\n",
        "\n",
        "    today = '2025-04-14'\n",
        "    response = requests.get(url)\n",
        "    data = response.json()\n",
        "\n",
        "    title = data[\"data\"][0][\"title\"]\n",
        "    summary = data[\"data\"][0][\"summary\"]\n",
        "\n",
        "    print()\n",
        "    print(\"4. 오늘 주요 뉴스 :\")\n",
        "    print(f'\"{title}\"\\n {summary}')\n",
        "\n",
        "\n",
        "Morning.routine('이담')\n",
        "Morning.cat()\n",
        "Morning.weather()\n",
        "Morning.quote()\n",
        "Morning.news()"
      ],
      "metadata": {
        "id": "CDJkGfOesmxe",
        "colab": {
          "base_uri": "https://localhost:8080/",
          "height": 1000
        },
        "outputId": "304a2d4f-7dfc-4a97-eb94-e0dc0ec08eb8"
      },
      "execution_count": 78,
      "outputs": [
        {
          "output_type": "stream",
          "name": "stdout",
          "text": [
            "이담의 아침 루틴입니다.\n",
            "\n",
            "1. 고양이 사진\n",
            "\n"
          ]
        },
        {
          "output_type": "display_data",
          "data": {
            "text/html": [
              "<img src=\"https://cdn2.thecatapi.com/images/rBuGgH_Wj.jpg\"/>"
            ],
            "text/plain": [
              "<IPython.core.display.Image object>"
            ]
          },
          "metadata": {}
        },
        {
          "output_type": "stream",
          "name": "stdout",
          "text": [
            "\n",
            "경도를 입력해주세요. :26\n",
            "위도를 입력해주세요. :130\n",
            "\n",
            "2. 오늘(2025-04-14) 날씨\n",
            "- 최고 기온 : 21.1℃\n",
            "- 최저 기온 : 18.0℃\n",
            "\n",
            "3. 오늘의 명언 :\n",
            "\"For changes to be of any true value, they've got to be lasting and consistent.\" - Tony Robbins\n",
            "\n",
            "4. 오늘 주요 뉴스 :\n",
            "\"IN FOCUS: ‘When I die, who’s going to look after you?’ – the pains of caring for adults with disabilities\"\n",
            " This article highlights the challenges faced by senior caregivers in Singapore who are raising adults with disabilities. Mdm June Lim, caring for her son Ernest Wong with cerebral palsy, emphasizes the importance of teaching independence, fearing future uncertainties without her. Many aging caregivers share similar concerns, with a significant percentage being over 65. Despite available support initiatives, gaps remain in medical costs and awareness. Experts urge for better long-term care planning, integrity in community support, and recognizing the potential of persons with disabilities to enhance their independence and quality of life.\n"
          ]
        }
      ]
    },
    {
      "cell_type": "code",
      "source": [],
      "metadata": {
        "id": "2sqx6yinDLUz"
      },
      "execution_count": null,
      "outputs": []
    }
  ]
}