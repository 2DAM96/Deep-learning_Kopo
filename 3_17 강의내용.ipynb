{
  "nbformat": 4,
  "nbformat_minor": 0,
  "metadata": {
    "colab": {
      "provenance": []
    },
    "kernelspec": {
      "name": "python3",
      "display_name": "Python 3"
    },
    "language_info": {
      "name": "python"
    }
  },
  "cells": [
    {
      "cell_type": "markdown",
      "source": [
        "**> 문자열 출력**\n",
        "\n",
        "\"\" 큰따옴표 사용하여 문자열 출력"
      ],
      "metadata": {
        "id": "pMtv6MAdfRl1"
      }
    },
    {
      "cell_type": "code",
      "execution_count": null,
      "metadata": {
        "colab": {
          "base_uri": "https://localhost:8080/"
        },
        "id": "2phYRXf_3rl_",
        "outputId": "bb63681e-9426-427f-d9ea-2451c391ab8c"
      },
      "outputs": [
        {
          "output_type": "stream",
          "name": "stdout",
          "text": [
            "My favorite sport is soccer.\n"
          ]
        }
      ],
      "source": [
        "a=\"My favorite sport is soccer.\"\n",
        "print(a)"
      ]
    },
    {
      "cell_type": "markdown",
      "source": [
        "**> \"\" '' 둘 다 사용하여 문자열 출력**\n",
        "\n",
        "\"\" 큰따옴표와 '' 작은따옴표 둘다 사용하여 문자열 출력"
      ],
      "metadata": {
        "id": "dvhqSc6afZKz"
      }
    },
    {
      "cell_type": "code",
      "source": [
        "a='One of says that I know, \"No pain, No gain.\".'\n",
        "print(a)"
      ],
      "metadata": {
        "colab": {
          "base_uri": "https://localhost:8080/"
        },
        "id": "pvCqJ_3U5JL-",
        "outputId": "e228010d-9909-4ce6-ea59-13787fb2077d"
      },
      "execution_count": null,
      "outputs": [
        {
          "output_type": "stream",
          "name": "stdout",
          "text": [
            "One of says that I know, \"No pain, No gain.\".\n"
          ]
        }
      ]
    },
    {
      "cell_type": "markdown",
      "source": [
        "**> 나눗셈 후 나머지를 출력해주는 %연산자**\n",
        "\n",
        "%는 나눗셈의 나머지 값을 리턴하는 연산자이다."
      ],
      "metadata": {
        "id": "VM6T3F5snOLz"
      }
    },
    {
      "cell_type": "code",
      "source": [
        "a=7\n",
        "b=3\n",
        "\n",
        "print(a%b)"
      ],
      "metadata": {
        "colab": {
          "base_uri": "https://localhost:8080/"
        },
        "id": "vm2vOOyPnWFL",
        "outputId": "de4f5730-2645-4a3c-83c4-3e419cf0a460"
      },
      "execution_count": 17,
      "outputs": [
        {
          "output_type": "stream",
          "name": "stdout",
          "text": [
            "1\n"
          ]
        }
      ]
    },
    {
      "cell_type": "markdown",
      "source": [
        "**> 나눗셈 후 몫을 출력해주는 //연산자**\n",
        "\n",
        "나눗셈 후 몫을 리턴하는 // 연산자이다."
      ],
      "metadata": {
        "id": "qtPBhT0YnsDM"
      }
    },
    {
      "cell_type": "code",
      "source": [
        "a=7\n",
        "b=3\n",
        "\n",
        "print(7//3)"
      ],
      "metadata": {
        "colab": {
          "base_uri": "https://localhost:8080/"
        },
        "id": "IKvHndNCnwmD",
        "outputId": "65138f9f-02a3-4c8f-afbe-bfdc4ed83706"
      },
      "execution_count": 18,
      "outputs": [
        {
          "output_type": "stream",
          "name": "stdout",
          "text": [
            "2\n"
          ]
        }
      ]
    },
    {
      "cell_type": "markdown",
      "source": [
        "**> 정수, 실수, 8진법, 16진법**\n",
        "\n",
        "정수, 실수, 8진법, 16진법 출력 및 type 출력\n",
        "\n",
        "- 8진법은 0o (숫자 0과, 영어o)로 시작.\n",
        "- 16진법은 0x (숫자0과 영어x)로 시작."
      ],
      "metadata": {
        "id": "78KoRzm3flGK"
      }
    },
    {
      "cell_type": "code",
      "source": [
        "a=12\n",
        "b=29.123\n",
        "c=0o321\n",
        "d=0xABC\n",
        "\n",
        "print(a)\n",
        "print(b)\n",
        "print(c)\n",
        "print(d)\n",
        "\n",
        "print(type(a))\n",
        "print(type(b))\n",
        "print(type(c))\n",
        "print(type(d))\n"
      ],
      "metadata": {
        "colab": {
          "base_uri": "https://localhost:8080/"
        },
        "id": "mdjImVYB5ZA8",
        "outputId": "bd179a66-b740-466d-dbce-60d76be64685"
      },
      "execution_count": null,
      "outputs": [
        {
          "output_type": "stream",
          "name": "stdout",
          "text": [
            "12\n",
            "29.123\n",
            "209\n",
            "2748\n",
            "<class 'int'>\n",
            "<class 'float'>\n",
            "<class 'int'>\n",
            "<class 'int'>\n"
          ]
        }
      ]
    },
    {
      "cell_type": "markdown",
      "source": [
        "**> 사칙연산**\n",
        "\n",
        "계산기와 같은 사칙연산의 순서에 맞게 출력됨"
      ],
      "metadata": {
        "id": "QC63eEO4fvWK"
      }
    },
    {
      "cell_type": "code",
      "source": [
        "a=11\n",
        "b=23\n",
        "c=12\n",
        "\n",
        "result=a+b\n",
        "print(result)\n",
        "\n",
        "result=a+b*c\n",
        "print(result)\n",
        "\n",
        "result=(a+b)*c\n",
        "print(result)"
      ],
      "metadata": {
        "colab": {
          "base_uri": "https://localhost:8080/"
        },
        "id": "4FIoeVq05468",
        "outputId": "67672a29-76f4-4a13-e11e-f49f74cd3c87"
      },
      "execution_count": null,
      "outputs": [
        {
          "output_type": "stream",
          "name": "stdout",
          "text": [
            "34\n",
            "287\n",
            "408\n"
          ]
        }
      ]
    },
    {
      "cell_type": "markdown",
      "source": [
        "**> 문자열 더해서 연결하기/문자열 곱하기**\n",
        "\n",
        "문자열끼리 더하거나 문자열을 곱해서 출력 가능"
      ],
      "metadata": {
        "id": "glLJUvwJf3DK"
      }
    },
    {
      "cell_type": "code",
      "source": [
        "a1=\"My life\"\n",
        "a2=\" is so special.\"\n",
        "\n",
        "text=a1+a2\n",
        "print(text)\n",
        "\n",
        "print(\"=\"*50)"
      ],
      "metadata": {
        "colab": {
          "base_uri": "https://localhost:8080/"
        },
        "id": "3SDvORdU6ZM8",
        "outputId": "61a27e2b-babd-4983-ae54-447cc305581f"
      },
      "execution_count": null,
      "outputs": [
        {
          "output_type": "stream",
          "name": "stdout",
          "text": [
            "My life is so special.\n",
            "==================================================\n"
          ]
        }
      ]
    },
    {
      "cell_type": "markdown",
      "source": [
        "**> f 문자열 포맷팅**\n",
        "\n",
        "f 문자열 포맷팅으로 문자열 출력"
      ],
      "metadata": {
        "id": "8YPhlMw-f7-y"
      }
    },
    {
      "cell_type": "code",
      "source": [
        "name=\"김이담\"\n",
        "age=30\n",
        "height=175\n",
        "gender=\"남자\"\n",
        "\n",
        "print(f\"제 이름은 {name}이고 나이는 {age}이며,\\n키는 {height}이고 성별은 {gender}입니다.\")"
      ],
      "metadata": {
        "colab": {
          "base_uri": "https://localhost:8080/"
        },
        "id": "1rwnaXwN6n38",
        "outputId": "50223ac0-c681-4748-8dec-66cee05dfdbd"
      },
      "execution_count": null,
      "outputs": [
        {
          "output_type": "stream",
          "name": "stdout",
          "text": [
            "제 이름은 김이담이고 나이는 30이며,\n",
            "키는 175이고 성별은 남자입니다.\n"
          ]
        }
      ]
    },
    {
      "cell_type": "markdown",
      "source": [
        "**> len함수 및 문자열 인덱싱과 슬라이싱**\n",
        "\n",
        "- len함수로 문자열의 길이를 알 수 있음\n",
        "- 문자열 인덱싱과 슬라이싱을 활용하여 원하는 문자열 출력 가능"
      ],
      "metadata": {
        "id": "7C5zktvCgDhy"
      }
    },
    {
      "cell_type": "code",
      "source": [
        "text=\"Yesterday my nephew have been given birth. He is my first nephew in my life.\"\n",
        "\n",
        "print(text)\n",
        "print(len(text))\n",
        "print(text[3])\n",
        "print(text[0:3])\n",
        "print(text[:10])\n",
        "print(text[::])\n"
      ],
      "metadata": {
        "colab": {
          "base_uri": "https://localhost:8080/"
        },
        "id": "R2o4PHGu7OTN",
        "outputId": "46a3b0a0-e39f-4418-d0fe-4d1a74b42a91"
      },
      "execution_count": 10,
      "outputs": [
        {
          "output_type": "stream",
          "name": "stdout",
          "text": [
            "Yesterday my nephew have been given birth. He is my first nephew in my life.\n",
            "76\n",
            "t\n",
            "Yes\n",
            "Yesterday \n",
            "Yesterday my nephew have been given birth. He is my first nephew in my life.\n"
          ]
        }
      ]
    },
    {
      "cell_type": "markdown",
      "source": [
        "**> 문자열 포매팅**\n",
        "\n",
        "숫자, 문자 포매팅을 활용하여 문자열 출력 가능"
      ],
      "metadata": {
        "id": "klF9nIpVjlns"
      }
    },
    {
      "cell_type": "code",
      "source": [
        "#숫자 출력\n",
        "number = 10\n",
        "\n",
        "print(\"There are %d students in classroom.\" % number)\n",
        "\n",
        "#문자 출력\n",
        "age = 28\n",
        "\n",
        "print(\"Our class's average age is %s years old.\" % age)\n",
        "\n",
        "#2가지 내용 동시 출력\n",
        "name = \"Idam\"\n",
        "age = 30\n",
        "\n",
        "print(\"My name is %s and %d years old.\" % (name, age))"
      ],
      "metadata": {
        "colab": {
          "base_uri": "https://localhost:8080/"
        },
        "id": "ISq6TbqzlU2E",
        "outputId": "fd98ea05-81d4-4667-a5b5-fa10bd1ec757"
      },
      "execution_count": 16,
      "outputs": [
        {
          "output_type": "stream",
          "name": "stdout",
          "text": [
            "There are 10 students in classroom.\n",
            "Our class's average age is 28 years old.\n",
            "My name is Idam and 30 years old.\n"
          ]
        }
      ]
    },
    {
      "cell_type": "code",
      "source": [],
      "metadata": {
        "id": "czXB3ykglkXF"
      },
      "execution_count": null,
      "outputs": []
    }
  ]
}