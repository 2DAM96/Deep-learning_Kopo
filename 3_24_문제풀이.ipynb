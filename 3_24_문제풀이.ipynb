{
  "nbformat": 4,
  "nbformat_minor": 0,
  "metadata": {
    "colab": {
      "provenance": []
    },
    "kernelspec": {
      "name": "python3",
      "display_name": "Python 3"
    },
    "language_info": {
      "name": "python"
    }
  },
  "cells": [
    {
      "cell_type": "markdown",
      "source": [
        "**> 점수에 따른 등급 부여 문제**\n",
        "\n",
        "학생들에게 점수에 따라서 등급을 부여하려고 한다.\n",
        "90점 이상일 경우 A등급\n",
        "80점 이상일 경우 B등급\n",
        "70점 이상일 경우 C등급\n",
        "70점 미만일 경우에는 D등급을 부여하는 코드를 작성하시오."
      ],
      "metadata": {
        "id": "V-5ntl2Vh-4c"
      }
    },
    {
      "cell_type": "code",
      "source": [
        "score = int(input(\"점수를 입력하세요.\"))\n",
        "\n",
        "if score >= 90:\n",
        "  print(\"A등급 입니다.\")\n",
        "elif score >= 80:\n",
        "  print(\"B등급 입니다.\")\n",
        "elif score >= 70:\n",
        "  print(\"C등급 입니다.\")\n",
        "else:\n",
        "  print(\"D등급 입니다.\")"
      ],
      "metadata": {
        "colab": {
          "base_uri": "https://localhost:8080/"
        },
        "id": "ufIg4QDsh-_U",
        "outputId": "cb2113cc-1dbe-4651-9b9a-445e52443659"
      },
      "execution_count": 9,
      "outputs": [
        {
          "output_type": "stream",
          "name": "stdout",
          "text": [
            "점수를 입력하세요.90\n",
            "A등급 입니다.\n"
          ]
        }
      ]
    },
    {
      "cell_type": "markdown",
      "source": [
        "**> 더 큰 숫자 출력 문제**\n",
        "\n",
        "사용자에게 정수 값을 2개 입력받아, 더 큰 숫자를 출력하고, 만약 같은 숫자라면 \"같습니다.\"라는 문장을 출력하시오."
      ],
      "metadata": {
        "id": "3tGZ5jISh_Ek"
      }
    },
    {
      "cell_type": "code",
      "source": [
        "a = int(input(\"첫 번째 정수 값을 입력해주세요.\"))\n",
        "b = int(input(\"두 번째 정수 값을 입력해주세요.\"))\n",
        "\n",
        "if a > b :\n",
        "  print(a)\n",
        "elif a < b :\n",
        "  print(b)\n",
        "elif a == b :\n",
        "  print(\"같습니다.\")\n",
        "else:\n",
        "  print()"
      ],
      "metadata": {
        "colab": {
          "base_uri": "https://localhost:8080/"
        },
        "id": "jnoQ4B9fh_JT",
        "outputId": "2f6d7ade-8a27-4155-f681-9ba409aa7cc9"
      },
      "execution_count": 12,
      "outputs": [
        {
          "output_type": "stream",
          "name": "stdout",
          "text": [
            "첫 번째 정수 값을 입력해주세요.1\n",
            "두 번째 정수 값을 입력해주세요.1\n",
            "같습니다.\n"
          ]
        }
      ]
    },
    {
      "cell_type": "markdown",
      "source": [
        "**> 숫자에 따른 단위 부여 문제**\n",
        "\n",
        "숫자가 1000이상이면, 백단위를 생략하고 K를 붙인다.\n",
        "\n",
        "숫자가 1000000 이상이면, 십만 단위를 생략하고 M을 붙인다.\n",
        "\n",
        "1,000 -> K\n",
        "\n",
        "1,000,000 -> M\n",
        "\n",
        "1,000,000,000 -> G\n",
        "  - 입력 : 25000\n",
        "  - 출력 : 25K\n",
        "\n",
        "  - 입력 : 123500000\n",
        "  - 출력 : 123M"
      ],
      "metadata": {
        "id": "QRmYy7m6h_OD"
      }
    },
    {
      "cell_type": "code",
      "source": [
        "i = int(input(\"숫자를 입력해주세요.\"))\n",
        "\n",
        "if i > 1000000000:\n",
        "  print((str(i//1000000000))+'G')\n",
        "elif i > 1000000:\n",
        "  print((str(i//1000000))+'M')\n",
        "elif i > 10000 and i < 1000000:\n",
        "  print((str(i//1000))+'K')\n",
        "else:\n",
        "  print()"
      ],
      "metadata": {
        "colab": {
          "base_uri": "https://localhost:8080/"
        },
        "id": "xR8pyMpEh_RM",
        "outputId": "f4f5a86e-343d-4f80-a918-572b8d540cb6"
      },
      "execution_count": 114,
      "outputs": [
        {
          "output_type": "stream",
          "name": "stdout",
          "text": [
            "숫자를 입력해주세요.1235498423135\n",
            "1235G\n"
          ]
        }
      ]
    },
    {
      "cell_type": "markdown",
      "source": [
        "**> 02장 되새김문제 Q-1**\n",
        "\n",
        "**Q1 평균 점수 구하기**\n",
        "\n",
        "홍길동 씨의 과목별 점수는 다음과 같다.\n",
        "홍길동 씨의 평균 점수를 구해 보자.\n",
        "\n",
        "국어 :80\n",
        "\n",
        "영어 :75\n",
        "\n",
        "수학 :55"
      ],
      "metadata": {
        "id": "YulsKvzekEtE"
      }
    },
    {
      "cell_type": "code",
      "source": [
        "a = 80\n",
        "b = 75\n",
        "c = 55\n",
        "\n",
        "print((a+b+c)/3)"
      ],
      "metadata": {
        "colab": {
          "base_uri": "https://localhost:8080/"
        },
        "id": "vbWTRYDSkFBT",
        "outputId": "23e02aad-2ccb-46c7-d9c2-0d6c287159ac"
      },
      "execution_count": 14,
      "outputs": [
        {
          "output_type": "stream",
          "name": "stdout",
          "text": [
            "70.0\n"
          ]
        }
      ]
    },
    {
      "cell_type": "markdown",
      "source": [
        "**Q2 홀수, 짝수 판별하기**\n",
        "\n",
        "자연수 13이 홀수인지, 짝수인지 판별할 수 있는 방법에 대해 말해보자."
      ],
      "metadata": {
        "id": "kknLA-84ozQm"
      }
    },
    {
      "cell_type": "code",
      "source": [
        "a = 13\n",
        "\n",
        "if a % 2 == 0:\n",
        "  print(\"짝수\")\n",
        "elif a % 2 == 1:\n",
        "  print(\"홀수\")\n",
        "else:\n",
        "  print()"
      ],
      "metadata": {
        "colab": {
          "base_uri": "https://localhost:8080/"
        },
        "id": "447m_1rRoxEv",
        "outputId": "e72065df-e8cb-4211-cdee-ed0a3ab2618f"
      },
      "execution_count": 22,
      "outputs": [
        {
          "output_type": "stream",
          "name": "stdout",
          "text": [
            "홀수\n"
          ]
        }
      ]
    },
    {
      "cell_type": "markdown",
      "source": [
        "**Q3 주민등록번호 나누기**\n",
        "\n",
        "홍길동 씨의 주민등록번호는 881120-1068234이다.\n",
        "\n",
        "홍길동 씨의 주민등록번호를 연월일(YYYYMMDD) 부분과 그 뒤의 숫자 부분으로 나누어 출력해 보자."
      ],
      "metadata": {
        "id": "nCxEzSFdozlF"
      }
    },
    {
      "cell_type": "code",
      "source": [
        "pin = \"881120-1068234\"\n",
        "yyyymmdd = \"19\"+pin[:6]\n",
        "num = pin[7:]\n",
        "print(yyyymmdd)\n",
        "print(num)"
      ],
      "metadata": {
        "colab": {
          "base_uri": "https://localhost:8080/"
        },
        "id": "CU75vRCEoz5M",
        "outputId": "c3361de1-188a-426b-f442-869cc63f9d81"
      },
      "execution_count": 29,
      "outputs": [
        {
          "output_type": "stream",
          "name": "stdout",
          "text": [
            "19881120\n",
            "1068234\n"
          ]
        }
      ]
    },
    {
      "cell_type": "markdown",
      "source": [
        "**Q4 주민등록번호 인덱싱**\n",
        "\n",
        "주민등록번호 뒷자리의 맨 첫 번쨰 숫자는 성별을 나타낸다. 주민등록번호에서 성별을 나타내는 숫자를 출력해 보자."
      ],
      "metadata": {
        "id": "Ynofml8Bo0Nt"
      }
    },
    {
      "cell_type": "code",
      "source": [
        "pin = \" 881120-1068234\"\n",
        "print(pin[8])"
      ],
      "metadata": {
        "colab": {
          "base_uri": "https://localhost:8080/"
        },
        "id": "PC3apZEYo0ac",
        "outputId": "afd096f9-0181-4253-d4e8-bd8d2ad0ca0d"
      },
      "execution_count": 31,
      "outputs": [
        {
          "output_type": "stream",
          "name": "stdout",
          "text": [
            "1\n"
          ]
        }
      ]
    },
    {
      "cell_type": "markdown",
      "source": [
        "**Q5 문자열 바꾸기**\n",
        "\n",
        "다음과 같은 문자열 a:b:c:d가 있다. 문자열의 replace 함수를 사용하여 a#b#c#d로 바꿔 출력해 보자."
      ],
      "metadata": {
        "id": "EE15cadSo0x1"
      }
    },
    {
      "cell_type": "code",
      "source": [
        "a = \"a:b:c:d\"\n",
        "b = a.replace(\":\",\"#\")\n",
        "print(b)"
      ],
      "metadata": {
        "colab": {
          "base_uri": "https://localhost:8080/"
        },
        "id": "6bCyeTw0o0_F",
        "outputId": "8f887d75-2778-4bc2-e11e-392a3b8c2601"
      },
      "execution_count": 33,
      "outputs": [
        {
          "output_type": "stream",
          "name": "stdout",
          "text": [
            "a#b#c#d\n"
          ]
        }
      ]
    },
    {
      "cell_type": "markdown",
      "source": [
        "**Q6 리스트 역순 정렬하기**\n",
        "\n",
        "[1,3,5,4,2] 리스트를 [5,4,3,2,1]로 만들어 보자."
      ],
      "metadata": {
        "id": "CgzxC62yo1KN"
      }
    },
    {
      "cell_type": "code",
      "source": [
        "a =[1,3,5,4,2]\n",
        "a.sort()\n",
        "a.reverse()\n",
        "print(a)"
      ],
      "metadata": {
        "colab": {
          "base_uri": "https://localhost:8080/"
        },
        "id": "qLZYgsVPo1Vd",
        "outputId": "da9839d9-7ff7-484e-c5a5-64912ffb737a"
      },
      "execution_count": 36,
      "outputs": [
        {
          "output_type": "stream",
          "name": "stdout",
          "text": [
            "[5, 4, 3, 2, 1]\n"
          ]
        }
      ]
    },
    {
      "cell_type": "markdown",
      "source": [
        "**Q7 리스트를 문자열로 만들기**\n",
        "\n",
        "['Life', 'is', 'too', 'short'] 리스트를 Life is too short 문자열로 만들어 출력해 보자."
      ],
      "metadata": {
        "id": "K57mj3ORo1m0"
      }
    },
    {
      "cell_type": "code",
      "source": [
        "a = ['Life', 'is', 'too', 'short']\n",
        "result = ' '.join(a)\n",
        "print(result)"
      ],
      "metadata": {
        "colab": {
          "base_uri": "https://localhost:8080/"
        },
        "id": "BsisKrFfo1zd",
        "outputId": "171f6d37-95f8-4570-882c-1df543e97e37"
      },
      "execution_count": 47,
      "outputs": [
        {
          "output_type": "stream",
          "name": "stdout",
          "text": [
            "Life is too short\n"
          ]
        }
      ]
    },
    {
      "cell_type": "markdown",
      "source": [
        "**Q8 큐플 더하기**\n",
        "\n",
        "(1,2,3) 튜플에 값 4를 추가하여 (1,2,3,4)를 만든 후 출력해 보자."
      ],
      "metadata": {
        "id": "RlQQWXbhux0e"
      }
    },
    {
      "cell_type": "code",
      "source": [
        "a = (1,2,3)\n",
        "a = a + (4,)\n",
        "print(a)"
      ],
      "metadata": {
        "colab": {
          "base_uri": "https://localhost:8080/"
        },
        "id": "kvQ56wlstgIA",
        "outputId": "2e161fb9-c350-46ba-82ff-2fa28aca130b"
      },
      "execution_count": 51,
      "outputs": [
        {
          "output_type": "stream",
          "name": "stdout",
          "text": [
            "(1, 2, 3, 4)\n"
          ]
        }
      ]
    },
    {
      "cell_type": "markdown",
      "source": [
        "**Q9 딕셔너리의 키**\n",
        "\n",
        "다음과 같은 딕셔너리 a가 있다.\n",
        "\n",
        "a = dict()\n",
        "a\n",
        "-> {}\n",
        "\n",
        "다음 중 오류가 발생하는 경우를 고르고, 그 이유를 설명해 보자.\n",
        "\n",
        "a['name'] = 'phython'\n",
        "\n",
        "a[('a',)] = 'phython'\n",
        "\n",
        "a[[1]] = 'phython'\n",
        "\n",
        "a[250] = 'phython'"
      ],
      "metadata": {
        "id": "kM9EXJbBuyIm"
      }
    },
    {
      "cell_type": "code",
      "source": [
        "a= dict()\n",
        "a['name'] = 'phython'\n",
        "a[('a',)] = 'phython'\n",
        "a[[1]] = 'phython'      # 정수에 [] 괄호를 빼야 한다.\n",
        "a[250] = 'phython'\n",
        "a"
      ],
      "metadata": {
        "colab": {
          "base_uri": "https://localhost:8080/"
        },
        "id": "aiV4JH8YuyWH",
        "outputId": "8954c929-e8d6-4af3-8ff1-319ef40ccb6a"
      },
      "execution_count": 57,
      "outputs": [
        {
          "output_type": "execute_result",
          "data": {
            "text/plain": [
              "{'name': 'phython', ('a',): 'phython', 1: 'phython', 250: 'phython'}"
            ]
          },
          "metadata": {},
          "execution_count": 57
        }
      ]
    },
    {
      "cell_type": "markdown",
      "source": [
        "**Q10 딕셔너리 값 추출하기**\n",
        "\n",
        "딕셔너리 a에서 'B'에 해당하는 값을 추출해 보자."
      ],
      "metadata": {
        "id": "GRSk_HKmwTq4"
      }
    },
    {
      "cell_type": "code",
      "source": [
        "a = {'A':90, 'B':80, 'C':70}\n",
        "result=a.pop('B')\n",
        "print(a)\n",
        "print(result)"
      ],
      "metadata": {
        "colab": {
          "base_uri": "https://localhost:8080/"
        },
        "id": "zcZF8LoZwT4X",
        "outputId": "a0492e10-83ce-464f-cd28-28c541e3b330"
      },
      "execution_count": 62,
      "outputs": [
        {
          "output_type": "stream",
          "name": "stdout",
          "text": [
            "{'A': 90, 'C': 70}\n",
            "80\n"
          ]
        }
      ]
    },
    {
      "cell_type": "markdown",
      "source": [
        "**Q11 리스트에서 중복 제거하기**\n",
        "\n",
        "a 리스트에서 중복 숫자를 제거해 보자."
      ],
      "metadata": {
        "id": "FmZELbS6w3-o"
      }
    },
    {
      "cell_type": "code",
      "source": [
        "a = [1, 1, 1, 2, 2, 3, 3, 3, 4, 4, 5]\n",
        "aSet = set(a)\n",
        "b = list(aSet)\n",
        "print(b)"
      ],
      "metadata": {
        "colab": {
          "base_uri": "https://localhost:8080/"
        },
        "id": "Kbg3OiBfw4dv",
        "outputId": "e6e5b101-5b15-4969-f1b8-4d63cd8c2706"
      },
      "execution_count": 64,
      "outputs": [
        {
          "output_type": "stream",
          "name": "stdout",
          "text": [
            "[1, 2, 3, 4, 5]\n"
          ]
        }
      ]
    },
    {
      "cell_type": "markdown",
      "source": [
        "**Q12 파이썬 변수**\n",
        "\n",
        "파이썬은 다음처럼 동일한 값에 여러 개의 변수를 선언할 수 있다. 다음과 같이 a,b 변수를 선언한 후 a의 두 번째 요솟값을 변경하면 b 값은 어떻게 될까? 그리고 이런 결과가 나타나는 이유를 설명해 보자."
      ],
      "metadata": {
        "id": "TbQk3nvQx0RI"
      }
    },
    {
      "cell_type": "code",
      "source": [
        "a = b = [1,2,3]\n",
        "a[1] = 4\n",
        "print(b)\n",
        "\n",
        "# 이유설명 : a, b 모두 [1,2,3]이라는 리스트 변수값을 가지고 있기 때문이다."
      ],
      "metadata": {
        "colab": {
          "base_uri": "https://localhost:8080/"
        },
        "id": "w80olWoAxq_w",
        "outputId": "e2dc73dd-ff16-4a91-c028-c0241b719cde"
      },
      "execution_count": 65,
      "outputs": [
        {
          "output_type": "stream",
          "name": "stdout",
          "text": [
            "[1, 4, 3]\n"
          ]
        }
      ]
    },
    {
      "cell_type": "code",
      "source": [],
      "metadata": {
        "id": "5r1sLNgWyEGw"
      },
      "execution_count": null,
      "outputs": []
    }
  ]
}