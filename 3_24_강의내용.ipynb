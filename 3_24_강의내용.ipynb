{
  "nbformat": 4,
  "nbformat_minor": 0,
  "metadata": {
    "colab": {
      "provenance": []
    },
    "kernelspec": {
      "name": "python3",
      "display_name": "Python 3"
    },
    "language_info": {
      "name": "python"
    }
  },
  "cells": [
    {
      "cell_type": "markdown",
      "source": [
        "**> 비교 연산자**\n",
        "\n",
        "크기를 비교하는 비교 연산자에는 아래와 같은 종류가 있다.\n",
        "- a > b : a는 b보다 크다\n",
        "- a < b : a는 b보다 작다\n",
        "- a == b : a는 b와 같다\n",
        "- a != b : a는 b와 같지 않다\n",
        "- a >= b : a는 b보다 크거나 같다\n",
        "- a <= b : a는 b보다 작거나 같다"
      ],
      "metadata": {
        "id": "SCAJ0ilZLNy0"
      }
    },
    {
      "cell_type": "code",
      "source": [
        "# 비교 연산자\n",
        "\n",
        "a = 5\n",
        "\n",
        "print(\"(a > 1)의 결과는?\", a > 1)\n",
        "print(\"(a < 1)의 결과는?\", a < 1)\n",
        "print(\"(a == 5)의 결과는?\", a == 5)\n",
        "print(\"(a != 1)의 결과는?\", a !=1)\n",
        "print(\"(a >= 2)의 결과는?\", a >=2)\n",
        "print(\"(a <= 5)의 결과는?\",a<=5)"
      ],
      "metadata": {
        "colab": {
          "base_uri": "https://localhost:8080/"
        },
        "id": "_U3Beek_LOFc",
        "outputId": "42f1fe90-1dd6-4c8f-8ed8-df9ae8c7b88d"
      },
      "execution_count": 87,
      "outputs": [
        {
          "output_type": "stream",
          "name": "stdout",
          "text": [
            "(a > 1)의 결과는? True\n",
            "(a < 1)의 결과는? False\n",
            "(a == 5)의 결과는? True\n",
            "(a != 1)의 결과는? True\n",
            "(a >= 2)의 결과는? True\n",
            "(a <= 5)의 결과는? True\n"
          ]
        }
      ]
    },
    {
      "cell_type": "markdown",
      "source": [
        "**> 논리 연산자**\n",
        "\n",
        "논리 연산자에는 아래와 같은 종류가 있다.\n",
        "\n",
        "- A and B : A,B 모두 참일 때 참이 된다\n",
        "- A or B : A 또는 B 중 하나만 참이어도 참이 된다\n",
        "- not A : A가 참일 때 결과는 거짓, A가 거짓일 때 결과는 참이 된다."
      ],
      "metadata": {
        "id": "duGxxuA-L3us"
      }
    },
    {
      "cell_type": "code",
      "source": [
        "# 논리 연산자\n",
        "\n",
        "a=5\n",
        "b=10\n",
        "\n",
        "print(\"(a > 1 and b < 10)의 결과는?\", (a > 1 and b < 10))\n",
        "\n",
        "print(\"(a > 1 or b < 10)의 결과는?\", (a > 1 or b < 10))"
      ],
      "metadata": {
        "colab": {
          "base_uri": "https://localhost:8080/"
        },
        "id": "BYV6vbCSL3-0",
        "outputId": "1441f370-e30e-443c-82c7-c3e7152598a6"
      },
      "execution_count": 78,
      "outputs": [
        {
          "output_type": "stream",
          "name": "stdout",
          "text": [
            "(a > 1 and b < 10)의 결과는? False\n",
            "(a > 1 or b < 10)의 결과는? True\n"
          ]
        }
      ]
    },
    {
      "cell_type": "markdown",
      "source": [
        "**> list 자료형**\n",
        "\n",
        "모든 종류의 자료형을 자유롭게 묶어서 사용할 수 있는 자료형"
      ],
      "metadata": {
        "id": "V6pRl59ikoYo"
      }
    },
    {
      "cell_type": "code",
      "execution_count": null,
      "metadata": {
        "id": "K1rAoONwkCdl"
      },
      "outputs": [],
      "source": [
        "#비어 있는 리스트 생성\n",
        "a=list()\n",
        "a=[]\n",
        "\n",
        "#리스트를 직접 선언\n",
        "b=[1,\"문자열\", -0.5, '안녕']"
      ]
    },
    {
      "cell_type": "markdown",
      "source": [
        "**> 리스트 인덱싱**\n",
        "\n"
      ],
      "metadata": {
        "id": "-867ut_nlOP4"
      }
    },
    {
      "cell_type": "code",
      "source": [
        "a = [1,2,3] # 문자열처럼 인덱싱 적용 가능\n",
        "print(a)\n",
        "\n",
        "print(a[0]) # 리스트 a의 첫 번째 요솟값\n",
        "\n",
        "print(a[0] + a[2]) # 리스트의 첫 번째 요솟값인 a[0]와 세 번째 요솟값인 a[2]의 값을 더함\n",
        "                   # 1 + 3 = 4\n",
        "\n",
        "b = [1,2,3,['a', 'b', 'c']] # 리스트 안에 또 다른 리스트를 포함하도록 만듬\n",
        "print(b)\n",
        "\n",
        "print(b[0])\n",
        "\n",
        "print(b[-1]) # 하나의 요솟값인 ['a','b','c']를 나타냄\n",
        "\n",
        "print(b[3])"
      ],
      "metadata": {
        "colab": {
          "base_uri": "https://localhost:8080/"
        },
        "id": "egk0khP9lOgH",
        "outputId": "642ccffd-6d16-42ff-c967-edbce8db1216"
      },
      "execution_count": 25,
      "outputs": [
        {
          "output_type": "stream",
          "name": "stdout",
          "text": [
            "[1, 2, 3]\n",
            "1\n",
            "4\n",
            "[1, 2, 3, ['a', 'b', 'c']]\n",
            "1\n",
            "['a', 'b', 'c']\n",
            "['a', 'b', 'c']\n"
          ]
        }
      ]
    },
    {
      "cell_type": "markdown",
      "source": [
        "**> 삼중 리스트 인덱싱**"
      ],
      "metadata": {
        "id": "4ISt5eji3icm"
      }
    },
    {
      "cell_type": "code",
      "source": [
        "a = [1,2,['a','b',['python', 'is']]]\n",
        "print(a)    # 삼중 구조의 리스트\n",
        "\n",
        "print(a[2][2][0]) # 'python' 문자열만 끄집어 냄"
      ],
      "metadata": {
        "colab": {
          "base_uri": "https://localhost:8080/"
        },
        "id": "F1-3ua3i3iv2",
        "outputId": "9e99ac83-b4f5-42ef-ea5f-3ce4f044af3a"
      },
      "execution_count": 26,
      "outputs": [
        {
          "output_type": "stream",
          "name": "stdout",
          "text": [
            "[1, 2, ['a', 'b', ['python', 'is']]]\n",
            "python\n"
          ]
        }
      ]
    },
    {
      "cell_type": "markdown",
      "source": [
        "**> 리스트 슬라이싱**\n"
      ],
      "metadata": {
        "id": "Egs9xPJSlo8Q"
      }
    },
    {
      "cell_type": "code",
      "source": [
        "a = [1,2,3,4,5]\n",
        "print(a[0:2]) # 문자열과 만찬가지로 리스트에서도 슬라이싱 기법 사용 가능\n",
        "\n",
        "a= [1,2,3,['a','b''c'], 4, 5]   # 중첩된 리스트에서도 슬라이싱 기법 사용 가능\n",
        "print(a)\n",
        "\n",
        "print(a[2:5]) # a[2]부터 a[4]까지\n",
        "\n",
        "print(a[3][:2])   # ['a','b','c']의 처음부터 두 번째 요소까지"
      ],
      "metadata": {
        "colab": {
          "base_uri": "https://localhost:8080/"
        },
        "id": "FZAtmv0ilpKv",
        "outputId": "8576151f-dd74-4f1f-9d11-730484b64a32"
      },
      "execution_count": 28,
      "outputs": [
        {
          "output_type": "stream",
          "name": "stdout",
          "text": [
            "[1, 2]\n",
            "[1, 2, 3, ['a', 'bc'], 4, 5]\n",
            "[3, ['a', 'bc'], 4]\n",
            "['a', 'bc']\n"
          ]
        }
      ]
    },
    {
      "cell_type": "markdown",
      "source": [
        "**> 리스트 덧셈과 곱셈**"
      ],
      "metadata": {
        "id": "PYx8NVV8lpW3"
      }
    },
    {
      "cell_type": "code",
      "source": [
        "a=[4,5,6]\n",
        "b=[7,8,9]\n",
        "\n",
        "#리스트 덧셈\n",
        "c = a+b\n",
        "print(c)\n",
        "\n",
        "#리스트 곱셈\n",
        "print(a*3)\n",
        "print(b*4)"
      ],
      "metadata": {
        "colab": {
          "base_uri": "https://localhost:8080/"
        },
        "id": "Nbswh-8Clpln",
        "outputId": "73972ec3-c935-474e-c0e4-c691b12eaae1"
      },
      "execution_count": 2,
      "outputs": [
        {
          "output_type": "stream",
          "name": "stdout",
          "text": [
            "[4, 5, 6, 7, 8, 9]\n",
            "[4, 5, 6, 4, 5, 6, 4, 5, 6]\n",
            "[7, 8, 9, 7, 8, 9, 7, 8, 9, 7, 8, 9]\n"
          ]
        }
      ]
    },
    {
      "cell_type": "markdown",
      "source": [
        "**> 리스트 값 수정하기**"
      ],
      "metadata": {
        "id": "DA4wPmiZ5Mmm"
      }
    },
    {
      "cell_type": "code",
      "source": [
        "a = [1,2,3]\n",
        "a[2] = 4\n",
        "print(a) # a[2]의 값이 4로 수정된 것을 알 수 있다."
      ],
      "metadata": {
        "colab": {
          "base_uri": "https://localhost:8080/"
        },
        "id": "JcP7n4sy5M6-",
        "outputId": "f214a08f-82dd-4bad-8cf1-9d2af4315422"
      },
      "execution_count": 31,
      "outputs": [
        {
          "output_type": "stream",
          "name": "stdout",
          "text": [
            "[1, 2, 4]\n"
          ]
        }
      ]
    },
    {
      "cell_type": "markdown",
      "source": [
        "**> 리스트 추가 및 삭제**\n",
        "\n",
        "- 추가 : .append() 함수를 사용\n",
        "- 삭제 : del키워드 사용"
      ],
      "metadata": {
        "id": "1CWbW2fUm9Pg"
      }
    },
    {
      "cell_type": "code",
      "source": [
        "a=[1,2,3,4,5]\n",
        "print(a)\n",
        "\n",
        "del a[2:]\n",
        "print(a)\n",
        "\n",
        "# 리스트의 추가는 리스트의 맨 뒤에 추가됨.\n",
        "# 추가할 때는 하나의 요소만 추가 가능\n",
        "a.append(4)\n",
        "print(a)\n",
        "a.append([5,6,7,8])\n",
        "print(a)"
      ],
      "metadata": {
        "colab": {
          "base_uri": "https://localhost:8080/"
        },
        "id": "y9Ws3YTQq8ZK",
        "outputId": "0231e713-c0a8-4070-82c2-7ef833ef0cf0"
      },
      "execution_count": 4,
      "outputs": [
        {
          "output_type": "stream",
          "name": "stdout",
          "text": [
            "[1, 2, 3, 4, 5]\n",
            "[1, 2]\n",
            "[1, 2, 4]\n",
            "[1, 2, 4, [5, 6, 7, 8]]\n"
          ]
        }
      ]
    },
    {
      "cell_type": "markdown",
      "source": [
        "**> 리스트 정렬 - sort**"
      ],
      "metadata": {
        "id": "8_T8uQPyrcRS"
      }
    },
    {
      "cell_type": "code",
      "source": [
        "a = [5,7,8,1]\n",
        "a.sort()    # 리스트의 요소를 순서대로 정렬해 준다.\n",
        "print(a)\n",
        "\n",
        "b = ['n','h','z','p']\n",
        "b.sort()    # 문자 역시 순서대로 정렬해 준다.\n",
        "print(b)"
      ],
      "metadata": {
        "colab": {
          "base_uri": "https://localhost:8080/"
        },
        "id": "Sk5YdYpKrK38",
        "outputId": "93fa1fee-a724-4f27-f858-3fe606d35533"
      },
      "execution_count": 35,
      "outputs": [
        {
          "output_type": "stream",
          "name": "stdout",
          "text": [
            "[1, 5, 7, 8]\n",
            "['h', 'n', 'p', 'z']\n"
          ]
        }
      ]
    },
    {
      "cell_type": "markdown",
      "source": [
        "**> 리스트 뒤집기 - reverse**"
      ],
      "metadata": {
        "id": "oITeDVItrcKC"
      }
    },
    {
      "cell_type": "code",
      "source": [
        "a = ['b','c','a']\n",
        "a.reverse()   # 리스트를 역순으로 뒤집어 준다. 이 때, 리스트를 순서대로 정렬 후 역순으로 정렬하는 것이 아닌 그대로 뒤집어 준다.\n",
        "print(a)"
      ],
      "metadata": {
        "colab": {
          "base_uri": "https://localhost:8080/"
        },
        "id": "R8iOtizxrcOB",
        "outputId": "bb32faf4-0cca-4260-e605-d30aabe4f3b1"
      },
      "execution_count": 38,
      "outputs": [
        {
          "output_type": "stream",
          "name": "stdout",
          "text": [
            "['a', 'c', 'b']\n"
          ]
        }
      ]
    },
    {
      "cell_type": "markdown",
      "source": [
        "**> 인덱스 반환 - index**"
      ],
      "metadata": {
        "id": "w6JsALiYrb9y"
      }
    },
    {
      "cell_type": "code",
      "source": [
        "a=[1,2,3,4,5,1]\n",
        "print(a.index(3))\n",
        "print(a.index(1)) # 중복되는 요소는 가장 앞에 있는 요소를 나타냄.\n"
      ],
      "metadata": {
        "colab": {
          "base_uri": "https://localhost:8080/"
        },
        "id": "qqCl9c90rcGa",
        "outputId": "4c266fc4-16ea-4b1f-c0ed-50f5820120fb"
      },
      "execution_count": 5,
      "outputs": [
        {
          "output_type": "stream",
          "name": "stdout",
          "text": [
            "2\n",
            "0\n"
          ]
        }
      ]
    },
    {
      "cell_type": "markdown",
      "source": [
        "**> 리스트의 원하는 위치에 요소 삽입 - insert**"
      ],
      "metadata": {
        "id": "vAL_vaqHsFe6"
      }
    },
    {
      "cell_type": "code",
      "source": [
        "a=[1,2,3,4,5]\n",
        "print(a)\n",
        "\n",
        "a.insert(2, 6)\n",
        "print(a)"
      ],
      "metadata": {
        "colab": {
          "base_uri": "https://localhost:8080/"
        },
        "id": "gJQgSr6asKQL",
        "outputId": "86bedc48-0eb0-471d-b797-404377760dfb"
      },
      "execution_count": 6,
      "outputs": [
        {
          "output_type": "stream",
          "name": "stdout",
          "text": [
            "[1, 2, 3, 4, 5]\n",
            "[1, 2, 6, 3, 4, 5]\n"
          ]
        }
      ]
    },
    {
      "cell_type": "markdown",
      "source": [
        "**> 리스트 요소 제거 - remove**"
      ],
      "metadata": {
        "id": "_ZcKpCEusVeq"
      }
    },
    {
      "cell_type": "code",
      "source": [
        "a=[1,2,3,1,4,5]\n",
        "print(a)\n",
        "\n",
        "a.remove(1) # 중복된 값이 있을 때, 첫 번째 값만 제거한다.\n",
        "print(a)\n",
        "\n",
        "a.remove(1) # 한 번 더 실행 시, 두 번째 중복된 값을 제거한다.\n",
        "print(a)\n",
        "\n",
        "a.remove(3)\n",
        "print(a)"
      ],
      "metadata": {
        "colab": {
          "base_uri": "https://localhost:8080/"
        },
        "id": "wr5ejQBdsRo7",
        "outputId": "9108fb32-f0d1-499e-eefe-bb355e186ed2"
      },
      "execution_count": 40,
      "outputs": [
        {
          "output_type": "stream",
          "name": "stdout",
          "text": [
            "[1, 2, 3, 1, 4, 5]\n",
            "[2, 3, 1, 4, 5]\n",
            "[2, 3, 4, 5]\n",
            "[2, 4, 5]\n"
          ]
        }
      ]
    },
    {
      "cell_type": "markdown",
      "source": [
        "**> 리스트 요소 추출 - pop**\n",
        "\n",
        "- 리스트의 맨 마지막 요소를 리턴하고 그 요소를 삭제한다."
      ],
      "metadata": {
        "id": "L6L6v1tesywi"
      }
    },
    {
      "cell_type": "code",
      "source": [
        "a=[1,2,3,4,5]\n",
        "print(a)\n",
        "\n",
        "b=a.pop(2)    # pop함수를 통해 2번인덱스(3)을 추출하여 변수 b에 저장\n",
        "print(a)\n",
        "print(b)"
      ],
      "metadata": {
        "colab": {
          "base_uri": "https://localhost:8080/"
        },
        "id": "z4RCqU6DswSu",
        "outputId": "29fa542a-5b0b-4961-c958-6702a6f49e82"
      },
      "execution_count": 9,
      "outputs": [
        {
          "output_type": "stream",
          "name": "stdout",
          "text": [
            "[1, 2, 3, 4, 5]\n",
            "[1, 2, 4, 5]\n",
            "3\n"
          ]
        }
      ]
    },
    {
      "cell_type": "markdown",
      "source": [
        "**> 리스트에 포함된 요소 x의 개수 세기 - count**"
      ],
      "metadata": {
        "id": "4LxFmu1gtKoq"
      }
    },
    {
      "cell_type": "code",
      "source": [
        "a=[1,2,3,4,5,1,2,2,4,5,13]\n",
        "print(a)\n",
        "\n",
        "print(a.count(1))"
      ],
      "metadata": {
        "colab": {
          "base_uri": "https://localhost:8080/"
        },
        "id": "3mNFDPaIs-bL",
        "outputId": "16595e67-722a-4819-e837-8eaebf27093c"
      },
      "execution_count": 10,
      "outputs": [
        {
          "output_type": "stream",
          "name": "stdout",
          "text": [
            "[1, 2, 3, 4, 5, 1, 2, 2, 4, 5, 13]\n",
            "2\n"
          ]
        }
      ]
    },
    {
      "cell_type": "markdown",
      "source": [
        "**> 튜플 자료형**\n",
        "\n",
        "- 리스트와 마찬가지로, 모든 자료형을 담을 수 있는 자료형.\n",
        "- 튜플은 한 번 생성하면 값의 변경, 삭제가 불가능하다.\n",
        "- 튜플은 요솟값을 변경할 수 없기 때문에 sort, insert, remove, pop과 같은 내장 함수를 사용할 수 없다."
      ],
      "metadata": {
        "id": "5srotEystqZL"
      }
    },
    {
      "cell_type": "code",
      "source": [
        "# 모든 자료형을 담을 수 있는 자료형.\n",
        "a=(1,2,3,('phython','is','good',(4,5,6)))\n",
        "print(a)\n",
        "\n",
        "# 인덱싱하기\n",
        "b=a[0]\n",
        "print(b)\n",
        "\n",
        "# 슬라이싱하기\n",
        "c=a[1:]\n",
        "print(c)\n",
        "\n",
        "# 튜플 더하기\n",
        "\n",
        "t1 = (1,'a')\n",
        "t2 = (3,4)\n",
        "t3 = t1 + t2\n",
        "print(t3)\n",
        "\n",
        "# 튜플 곱하기\n",
        "t4 = t1 * 2\n",
        "print(t4)\n",
        "\n",
        "# 튜플 길이 구하기\n",
        "len(a)"
      ],
      "metadata": {
        "colab": {
          "base_uri": "https://localhost:8080/"
        },
        "id": "usIac9WntnZM",
        "outputId": "2afd6a7c-1ae9-4bae-902c-f7293b62dd01"
      },
      "execution_count": 47,
      "outputs": [
        {
          "output_type": "stream",
          "name": "stdout",
          "text": [
            "(1, 2, 3, ('phython', 'is', 'good', (4, 5, 6)))\n",
            "1\n",
            "(2, 3, ('phython', 'is', 'good', (4, 5, 6)))\n",
            "(1, 'a', 3, 4)\n",
            "(1, 'a', 1, 'a')\n"
          ]
        },
        {
          "output_type": "execute_result",
          "data": {
            "text/plain": [
              "4"
            ]
          },
          "metadata": {},
          "execution_count": 47
        }
      ]
    },
    {
      "cell_type": "markdown",
      "source": [
        "**> 딕셔너리 자료형**\n",
        "\n",
        "- 순차적으로 접근하지 않고, 오직 Key를 통해서 Valuer값에 접근\n",
        "- 순서가 없기 때문에, 인덱싱 및 슬라이싱이 불가능하다.\n",
        "- Key값은 고유한 값이므로, 중복되는 Key값을 사용하면 안됨"
      ],
      "metadata": {
        "id": "Wt5G_Y2ruaLL"
      }
    },
    {
      "cell_type": "code",
      "source": [
        "dic = {'사과': 'apple', '바나나' : 'banana',  '멜론' : 'melon'}\n",
        "print(dic)\n",
        "dic1 = {1:'hello', 2:[1,2,3]}\n",
        "print(dic1)"
      ],
      "metadata": {
        "colab": {
          "base_uri": "https://localhost:8080/"
        },
        "id": "DhrnENLnubHq",
        "outputId": "82debc17-229a-41ae-f6e3-e5245be5df7f"
      },
      "execution_count": 48,
      "outputs": [
        {
          "output_type": "stream",
          "name": "stdout",
          "text": [
            "{'사과': 'apple', '바나나': 'banana', '멜론': 'melon'}\n",
            "{1: 'hello', 2: [1, 2, 3]}\n"
          ]
        }
      ]
    },
    {
      "cell_type": "markdown",
      "source": [
        "**> 딕셔너리 요소 추가**"
      ],
      "metadata": {
        "id": "Zq3kq1HGubha"
      }
    },
    {
      "cell_type": "code",
      "source": [
        "a={1:'a'}\n",
        "a[2]='b'  # {2:'b'} 추가\n",
        "print(a)\n",
        "\n",
        "a['hobby']='soccer'   # {'hobby':'soccer} 추가\n",
        "print(a)"
      ],
      "metadata": {
        "colab": {
          "base_uri": "https://localhost:8080/"
        },
        "id": "LIUtdKKTuPCM",
        "outputId": "3596ef81-1d28-48bf-de89-779d72ff4378"
      },
      "execution_count": 50,
      "outputs": [
        {
          "output_type": "stream",
          "name": "stdout",
          "text": [
            "{1: 'a', 2: 'b'}\n",
            "{1: 'a', 2: 'b', 'hobby': 'soccer'}\n"
          ]
        }
      ]
    },
    {
      "cell_type": "markdown",
      "source": [
        "**> 딕셔너리 요소 삭제**\n",
        "\n",
        "- del 함수를 이용해 요소를 삭제할 수 있다."
      ],
      "metadata": {
        "id": "IYK4Tr3Dub5S"
      }
    },
    {
      "cell_type": "code",
      "source": [
        "a={1: 'a', 2: 'b', 'hobby': 'soccer'}\n",
        "del a[1]    # Key가 1인 {1:'a'} 쌍 삭제\n",
        "print(a)"
      ],
      "metadata": {
        "colab": {
          "base_uri": "https://localhost:8080/"
        },
        "id": "h2VeVEiWucGC",
        "outputId": "a0c5934d-ce6e-4692-a8a5-a0843abbb235"
      },
      "execution_count": 51,
      "outputs": [
        {
          "output_type": "stream",
          "name": "stdout",
          "text": [
            "{2: 'b', 'hobby': 'soccer'}\n"
          ]
        }
      ]
    },
    {
      "cell_type": "markdown",
      "source": [
        "**> 딕셔너리에서 Key를 이용해 Value 얻기**"
      ],
      "metadata": {
        "id": "2YHc4sXN-GGw"
      }
    },
    {
      "cell_type": "code",
      "source": [
        "name1 = {'Gildong':10, 'Yidam':30, 'Grace':15}\n",
        "print(name1['Yidam'])   # Key가 'Yidam'인 딕셔너리의 Value를 반환\n",
        "\n",
        "dic = {'name' : 'Idam', 'phone' : '010-0000-0000', 'birth' : '0810'}\n",
        "print(dic['name'])\n",
        "print(dic['phone'])\n",
        "print(dic['birth'])   # Key를 사용하여 Value를 쉽게 얻을 수 있음"
      ],
      "metadata": {
        "colab": {
          "base_uri": "https://localhost:8080/"
        },
        "id": "GJJrbr6d-GZn",
        "outputId": "1863c7fc-c66a-478f-a156-9ff788d1e08e"
      },
      "execution_count": 56,
      "outputs": [
        {
          "output_type": "stream",
          "name": "stdout",
          "text": [
            "30\n",
            "Idam\n",
            "010-0000-0000\n",
            "0810\n"
          ]
        }
      ]
    },
    {
      "cell_type": "markdown",
      "source": [
        "**> 딕셔너리 관련 함수**\n",
        "\n",
        "- .keys()\n",
        "- .values()\n",
        "- .items()\n",
        "- .clear()\n",
        "- .get()\n",
        "- in"
      ],
      "metadata": {
        "id": "Qfn6JJEtvcX7"
      }
    },
    {
      "cell_type": "code",
      "source": [
        "# .keys() 함수\n",
        "dic = {'name' : 'Idam', 'phone' : '010-0000-0000', 'birth' : '0810'}\n",
        "print(dic.keys())   # key만 얻고 싶을 때 사용\n",
        "\n",
        "# .values() 함수\n",
        "print(dic.values())   # value만 얻고 싶을 때 사용\n",
        "\n",
        "# .items() 함수\n",
        "print(dic.items())    # key와 value의 쌍을 튜플로 묶은 값을 나타내고 싶을 때 사용\n",
        "\n",
        "# .get() 함수\n",
        "print(dic.get('phone'))   # 해당 key와 대응되는 value 값을 리턴한다.\n",
        "\n",
        "# in\n",
        "print('name' in dic)    # 딕셔너리 중에 해당 key가 존재한다면 True,\n",
        "\n",
        "print('hobby' in dic)   # 존재하지 않는다면 False를 출력한다.\n",
        "\n",
        "# .clear() 함수\n",
        "print(dic.clear())   # 딕셔너리 안의 모든 요소를 삭제"
      ],
      "metadata": {
        "colab": {
          "base_uri": "https://localhost:8080/"
        },
        "id": "uR_-vwFevclD",
        "outputId": "90e5cee2-b8c0-4526-bdf6-ff720087e731"
      },
      "execution_count": 68,
      "outputs": [
        {
          "output_type": "stream",
          "name": "stdout",
          "text": [
            "dict_keys(['name', 'phone', 'birth'])\n",
            "dict_values(['Idam', '010-0000-0000', '0810'])\n",
            "dict_items([('name', 'Idam'), ('phone', '010-0000-0000'), ('birth', '0810')])\n",
            "010-0000-0000\n",
            "True\n",
            "False\n",
            "None\n"
          ]
        }
      ]
    },
    {
      "cell_type": "markdown",
      "source": [
        "**> 집합 자료형**\n",
        "\n",
        "- 중복을 허용하지 않는다\n",
        "- 순서가 없다"
      ],
      "metadata": {
        "id": "7wiRF0Xxvcsj"
      }
    },
    {
      "cell_type": "code",
      "source": [
        "s1 = set([1,2,3,3,2])\n",
        "s2 = set(\"I am a boy\")\n",
        "s3 = set([1,5,6])\n",
        "print(s1)\n",
        "print(s2)\n",
        "print(s3)\n",
        "\n",
        "# 집합의 인덱싱을 사용하기 위해 리스트로 변환하는 과정을 거쳐야한다.\n",
        "i = list(s1)\n",
        "print(i)\n",
        "print(i[0])"
      ],
      "metadata": {
        "colab": {
          "base_uri": "https://localhost:8080/"
        },
        "id": "raetfLgYvc7b",
        "outputId": "116c58c5-00ce-4b46-f05f-0e2b7de32780"
      },
      "execution_count": 17,
      "outputs": [
        {
          "output_type": "stream",
          "name": "stdout",
          "text": [
            "{1, 2, 3}\n",
            "{' ', 'y', 'a', 'b', 'm', 'I', 'o'}\n",
            "{1, 5, 6}\n",
            "[1, 2, 3]\n",
            "1\n"
          ]
        }
      ]
    },
    {
      "cell_type": "markdown",
      "source": [
        "**> 교집합, 합집합, 차집합**"
      ],
      "metadata": {
        "id": "zdfLnLLQyzz0"
      }
    },
    {
      "cell_type": "code",
      "source": [
        "# 교집합 구하기\n",
        "s1 = set([1,2,3,4,5,6])\n",
        "s2 = set([4,5,6,7,8,9])\n",
        "\n",
        "print(s1&s2)\n",
        "\n",
        "# 합집합 구하기\n",
        "print(s1|s2)\n",
        "\n",
        "# 차집합 구하기\n",
        "print(s1 - s2)"
      ],
      "metadata": {
        "colab": {
          "base_uri": "https://localhost:8080/"
        },
        "id": "92W3IV73yppv",
        "outputId": "75f11c76-cd7f-4567-f5e4-6d9c6e94164f"
      },
      "execution_count": 71,
      "outputs": [
        {
          "output_type": "stream",
          "name": "stdout",
          "text": [
            "{4, 5, 6}\n",
            "{1, 2, 3, 4, 5, 6, 7, 8, 9}\n",
            "{1, 2, 3}\n"
          ]
        }
      ]
    },
    {
      "cell_type": "markdown",
      "source": [
        "**> 집합 자료형 관련 함수**\n",
        "\n",
        "- 값 1개 추가하기 : .add()\n",
        "- 값 여러개 추가하기 : .update()\n",
        "- 특정 값 제거하기 : .remove()"
      ],
      "metadata": {
        "id": "MEXiu9h9y0R8"
      }
    },
    {
      "cell_type": "code",
      "source": [
        "# add() 함수\n",
        "s1 = set([1,2,3])\n",
        "s1.add(4)   # set 자료형에 값을 추가할 수 있음.\n",
        "print(s1)\n",
        "\n",
        "# update() 함수\n",
        "s1.update([4,5,6])    # 여러 개의 값을 한꺼번에 추가할 수 있음.\n",
        "print(s1)\n",
        "\n",
        "# remove()\n",
        "s1.remove(2)    # 특정 값을 삭제할 수 있음.\n",
        "print(s1)"
      ],
      "metadata": {
        "colab": {
          "base_uri": "https://localhost:8080/"
        },
        "id": "DyxP-Lsoy0j8",
        "outputId": "94efc362-f262-4559-aba9-1c0de3f6689c"
      },
      "execution_count": 75,
      "outputs": [
        {
          "output_type": "stream",
          "name": "stdout",
          "text": [
            "{1, 2, 3, 4}\n",
            "{1, 2, 3, 4, 5, 6}\n",
            "{1, 3, 4, 5, 6}\n"
          ]
        }
      ]
    },
    {
      "cell_type": "markdown",
      "source": [],
      "metadata": {
        "id": "xRWohpXdy078"
      }
    },
    {
      "cell_type": "code",
      "source": [],
      "metadata": {
        "id": "k9uKHR4ky1M8"
      },
      "execution_count": null,
      "outputs": []
    },
    {
      "cell_type": "markdown",
      "source": [],
      "metadata": {
        "id": "SUOeKH7Dy1y8"
      }
    },
    {
      "cell_type": "code",
      "source": [],
      "metadata": {
        "id": "s_GYUL0ny2AL"
      },
      "execution_count": null,
      "outputs": []
    }
  ]
}