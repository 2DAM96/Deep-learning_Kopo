{
  "nbformat": 4,
  "nbformat_minor": 0,
  "metadata": {
    "colab": {
      "provenance": []
    },
    "kernelspec": {
      "name": "python3",
      "display_name": "Python 3"
    },
    "language_info": {
      "name": "python"
    }
  },
  "cells": [
    {
      "cell_type": "markdown",
      "source": [
        "**> 전화번호 형식 바꾸기 문제**\n",
        "\n",
        "010-1234-5678의 형식으로 저장된 전화번호를 '-'을 제거해 01012345678의 형식으로 바꿔보시오.\n",
        "\n",
        "- 문자열 내장 함수를 사용하면 해결할 수 있습니다.\n",
        "- 문자열 슬라이싱을 이용해도 상관없습니다."
      ],
      "metadata": {
        "id": "7xKRFNItRUzE"
      }
    },
    {
      "cell_type": "code",
      "execution_count": 2,
      "metadata": {
        "colab": {
          "base_uri": "https://localhost:8080/"
        },
        "id": "dQwK4EOLRR5h",
        "outputId": "0845b22b-b076-430b-b4d4-f87bb80d6a5d"
      },
      "outputs": [
        {
          "output_type": "stream",
          "name": "stdout",
          "text": [
            "01012345678\n"
          ]
        }
      ],
      "source": [
        "num='010-1234-5678'\n",
        "\n",
        "print(num.replace('-',''))"
      ]
    },
    {
      "cell_type": "markdown",
      "source": [
        "**> 문자열 인덱싱&슬라이싱 문제**\n",
        "\n",
        "문자열 인덱싱 또는 슬라이싱을 사용하여 년 월 일 날씨를 출력하시오.\n",
        "\n",
        "text = '20230601sunny'\n",
        "- year = '2023'\n",
        "- month = '06\n",
        "- day = '01'\n",
        "- weather = 'sunny'"
      ],
      "metadata": {
        "id": "9j3msVjCSk29"
      }
    },
    {
      "cell_type": "code",
      "source": [
        "text='20230601sunny'\n",
        "\n",
        "year=text[0:4]\n",
        "month=text[4:6]\n",
        "day=text[6:8]\n",
        "weather=text[8:13]\n",
        "\n",
        "text2=year+month+day+weather\n",
        "print(text2)"
      ],
      "metadata": {
        "colab": {
          "base_uri": "https://localhost:8080/"
        },
        "id": "l8of9EcHRr2W",
        "outputId": "1067703c-4c25-4326-e1f0-5860753aea29"
      },
      "execution_count": 29,
      "outputs": [
        {
          "output_type": "stream",
          "name": "stdout",
          "text": [
            "20230601sunny\n"
          ]
        }
      ]
    },
    {
      "cell_type": "markdown",
      "source": [
        "**> 제목글 변환 문제**\n",
        "\n",
        "사용자에게 영어로 된 문자열을 입력받고, 첫 문자만 대문자로 변경하시오."
      ],
      "metadata": {
        "id": "lx7KmGf0Uu3M"
      }
    },
    {
      "cell_type": "code",
      "source": [
        "a=input(\"영어를 입력해주세요. :\")\n",
        "\n",
        "b=a[0].upper()\n",
        "c=a[1:]\n",
        "print(b+c)"
      ],
      "metadata": {
        "colab": {
          "base_uri": "https://localhost:8080/"
        },
        "id": "t-i4KoWTTQzI",
        "outputId": "8b49d858-28f6-498f-eeca-2175ae5ee792"
      },
      "execution_count": 79,
      "outputs": [
        {
          "output_type": "stream",
          "name": "stdout",
          "text": [
            "영어를 입력해주세요. :you are my son\n",
            "You are my son\n"
          ]
        }
      ]
    },
    {
      "cell_type": "markdown",
      "source": [
        "**> 문자열 분할 문제(split)**\n",
        "\n",
        "카카오톡의 대화 정보는 다음과 같이 저장된다.\n",
        "\n",
        "\"2023년 1월 2일 오후 9:52, 유연휘 : 일단\"\n",
        "\n",
        "위 문장을 날짜, 시간, 이름, 내용별로 분할해보자."
      ],
      "metadata": {
        "id": "_REOzT4jWE_s"
      }
    },
    {
      "cell_type": "code",
      "source": [
        "text=\"2023년 1월 2일 오후9:52, 유연휘 : 일단\"\n",
        "\n",
        "a=text.split()\n",
        "date=a[0]+a[1]+a[2]\n",
        "time=a[3]\n",
        "name=a[4]\n",
        "word=a[6]\n",
        "\n",
        "print(\"날짜:\", date)\n",
        "print(\"시간:\", time.replace(',',''))\n",
        "print(\"이름:\", name)\n",
        "print(\"내용:\", word)"
      ],
      "metadata": {
        "colab": {
          "base_uri": "https://localhost:8080/"
        },
        "id": "7cw64ez9VBAF",
        "outputId": "1cc68302-9a2e-4406-f6fb-f25126e3ff3c"
      },
      "execution_count": 84,
      "outputs": [
        {
          "output_type": "stream",
          "name": "stdout",
          "text": [
            "날짜: 2023년1월2일\n",
            "시간: 오후9:52\n",
            "이름: 유연휘\n",
            "내용: 일단\n"
          ]
        }
      ]
    },
    {
      "cell_type": "markdown",
      "source": [
        "**> 제곱 문제**\n",
        "\n",
        "사용자에게 입력받은 수의 제곱을 계산하여 출력하는 코드를 작성하시오.\n",
        "- a=3, 결과 -> 9 출력.\n",
        "- b=5, 결과 -> 25 출력."
      ],
      "metadata": {
        "id": "57pLXwqqYual"
      }
    },
    {
      "cell_type": "code",
      "source": [
        "a=int(input('숫자를 입력해주세요.:'))\n",
        "\n",
        "print(\"결과 :\", a**2)"
      ],
      "metadata": {
        "colab": {
          "base_uri": "https://localhost:8080/"
        },
        "id": "PRQqrytbWoBm",
        "outputId": "03c629fb-4b75-4059-9de6-fd07792f26fc"
      },
      "execution_count": 70,
      "outputs": [
        {
          "output_type": "stream",
          "name": "stdout",
          "text": [
            "숫자를 입력해주세요.:2\n",
            "결과 : 4\n"
          ]
        }
      ]
    },
    {
      "cell_type": "code",
      "source": [],
      "metadata": {
        "id": "7AhShjHVaD82"
      },
      "execution_count": null,
      "outputs": []
    }
  ]
}